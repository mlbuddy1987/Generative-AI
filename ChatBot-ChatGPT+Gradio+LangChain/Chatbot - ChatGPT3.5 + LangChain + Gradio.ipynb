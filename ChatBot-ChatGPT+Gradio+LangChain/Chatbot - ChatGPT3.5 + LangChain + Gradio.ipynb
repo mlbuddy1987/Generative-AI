{
 "cells": [
  {
   "cell_type": "markdown",
   "id": "4d7ad8ed-7a3e-4002-8c1d-d46e5e6971bd",
   "metadata": {},
   "source": [
    "# Import All Required Libraries"
   ]
  },
  {
   "cell_type": "code",
   "execution_count": 4,
   "id": "33e1d0eb-f29b-43c5-8952-f420570d2c09",
   "metadata": {},
   "outputs": [],
   "source": [
    "import os\n",
    "import openai\n",
    "import gradio as gr \n",
    "from dotenv import load_dotenv, find_dotenv\n",
    "from langchain.chat_models import ChatOpenAI\n",
    "from langchain.schema import AIMessage, HumanMessage\n"
   ]
  },
  {
   "cell_type": "markdown",
   "id": "f623be45-1fa7-401e-9734-7bb0c380c21c",
   "metadata": {},
   "source": [
    "# Load ChatGPT Key From Local .env File "
   ]
  },
  {
   "cell_type": "code",
   "execution_count": 15,
   "id": "c04aeca9-a533-42ea-9218-908dde35dcf7",
   "metadata": {},
   "outputs": [],
   "source": [
    "_ = load_dotenv(find_dotenv())\n",
    "\n",
    "api_key = os.environ[\"OPENAI_API_KEY\"]\n",
    "\n",
    "os.environ[\"OPENAI_API_KEY\"] = api_key\n"
   ]
  },
  {
   "cell_type": "markdown",
   "id": "372f7802-f12a-4037-b356-616b819e299c",
   "metadata": {},
   "source": [
    "# Define LLM - ChatGPT3.5-turbo and Create UI with Gradio"
   ]
  },
  {
   "cell_type": "code",
   "execution_count": 14,
   "id": "25c0eec5-126b-446d-b0d8-2805511c4bb7",
   "metadata": {},
   "outputs": [
    {
     "name": "stdout",
     "output_type": "stream",
     "text": [
      "Running on local URL:  http://127.0.0.1:7871\n",
      "\n",
      "To create a public link, set `share=True` in `launch()`.\n"
     ]
    },
    {
     "data": {
      "text/html": [
       "<div><iframe src=\"http://127.0.0.1:7871/\" width=\"100%\" height=\"500\" allow=\"autoplay; camera; microphone; clipboard-read; clipboard-write;\" frameborder=\"0\" allowfullscreen></iframe></div>"
      ],
      "text/plain": [
       "<IPython.core.display.HTML object>"
      ]
     },
     "metadata": {},
     "output_type": "display_data"
    },
    {
     "data": {
      "text/plain": []
     },
     "execution_count": 14,
     "metadata": {},
     "output_type": "execute_result"
    },
    {
     "name": "stdout",
     "output_type": "stream",
     "text": [
      "[HumanMessage(content='hi')]\n",
      "hi\n",
      "Hello! How can I assist you today?\n",
      "[HumanMessage(content='hi'), AIMessage(content='Hello! How can I assist you today?'), HumanMessage(content='how are you')]\n"
     ]
    }
   ],
   "source": [
    "model = \"gpt-3.5-turbo-0613\"\n",
    "\n",
    "model_description = \"ChatBot - ChatGPT3.5 (gpt-3.5-turbo-0613) + LangChain + Gradio\"\n",
    "\n",
    "llm = ChatOpenAI(temperature=1.0, model=model)\n",
    "\n",
    "# Close all previous instances\n",
    "gr.close_all()\n",
    "\n",
    "def predict(message, history):\n",
    "    history_format_list = []\n",
    "    \n",
    "    for human, ai in history:\n",
    "        history_format_list.append(HumanMessage(content=human))\n",
    "        history_format_list.append(AIMessage(content=ai))\n",
    "        \n",
    "    history_format_list.append(HumanMessage(content=message))\n",
    "    \n",
    "    gpt_response = llm(history_format_list)\n",
    "    \n",
    "    return gpt_response.content\n",
    "\n",
    "gr.ChatInterface(fn=predict, title=model_description).launch()\n",
    "    "
   ]
  }
 ],
 "metadata": {
  "kernelspec": {
   "display_name": "GenerativeAI",
   "language": "python",
   "name": "generativeai"
  },
  "language_info": {
   "codemirror_mode": {
    "name": "ipython",
    "version": 3
   },
   "file_extension": ".py",
   "mimetype": "text/x-python",
   "name": "python",
   "nbconvert_exporter": "python",
   "pygments_lexer": "ipython3",
   "version": "3.11.1"
  }
 },
 "nbformat": 4,
 "nbformat_minor": 5
}
